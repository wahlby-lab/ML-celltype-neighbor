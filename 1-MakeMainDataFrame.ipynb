{
 "cells": [
  {
   "cell_type": "markdown",
   "metadata": {},
   "source": [
    "## This notebook is for new data in the form of separate CSV, JSON and or Tiffs \n",
    "of cores for Lina Wik and Arne Ö data"
   ]
  },
  {
   "cell_type": "markdown",
   "metadata": {},
   "source": [
    "### to get d90s go to [difference of 90th percentiles](#d90s)"
   ]
  },
  {
   "cell_type": "code",
   "execution_count": null,
   "metadata": {},
   "outputs": [],
   "source": [
    "import pandas as pd\n",
    "import numpy as np\n",
    "import matplotlib.pyplot as plt\n",
    "import seaborn as sns\n",
    "import os\n",
    "import utils\n",
    "import importlib\n",
    "pd.options.display.max_columns = None\n",
    "pd.options.display.max_rows = 1000"
   ]
  },
  {
   "cell_type": "code",
   "execution_count": null,
   "metadata": {},
   "outputs": [],
   "source": [
    "#create a little function to change names to the style #_#_#\n",
    "#could be done with regex but..... when you have a problem, use regex and now you have two problems\n",
    "def renameImage(astring):\n",
    "    astring=astring.replace(\"TMA\",\"\")\n",
    "    pieces1st=astring.split(\"_\")\n",
    "    tma=pieces1st[0]\n",
    "    pieces2nd=pieces1st[2].split(\".\")\n",
    "    loc1=pieces2nd[1][:-1]\n",
    "    loc2=pieces2nd[1][-1]\n",
    "    return f\"{tma}_{loc1}_{loc2}\"   "
   ]
  },
  {
   "cell_type": "code",
   "execution_count": null,
   "metadata": {},
   "outputs": [],
   "source": [
    "#check for resolution carefully\n",
    "resolution=0.4961"
   ]
  },
  {
   "cell_type": "code",
   "execution_count": null,
   "metadata": {},
   "outputs": [],
   "source": [
    "#join all the trimmed CSV\n",
    "#remember to change the mu character\n",
    "#location of the CSV\n",
    "loc=\"locationToYourCSV/\"\n",
    "files= [\"TMA6_2_Core1.3C.csv\", \"TMA6_2_Core1.3D.csv\", \"TMA6_2_Core1.3F.csv\", \"TMA6_2_Core1.7D.csv\", \"TMA6_2_Core1.9B.csv\", \"TMA6_2_Core1.9D.csv\", \"TMA6_2_Core1.9F.csv\", \"TMA6_2_Core1.9H.csv\", \"TMA6_2_Core1.9I.csv\", \"TMA7_2_Core1.10B.csv\", \"TMA7_2_Core1.12C.csv\", \"TMA7_2_Core1.3F.csv\", \"TMA7_2_Core1.3H.csv\", \"TMA7_2_Core1.4B.csv\", \"TMA7_2_Core1.5G.csv\", \"TMA7_2_Core1.6H.csv\", \"TMA7_2_Core1.7C.csv\", \"TMA7_2_Core1.7F.csv\", \"TMA7_2_Core1.8E.csv\", \"TMA7_2_Core1.8I.csv\"]\n",
    "alldf={}\n",
    "for i in files:\n",
    "    newname=renameImage(i)\n",
    "    alldf[i]=pd.read_csv(f\"{loc}{i}\")\n",
    "    alldf[i][\"Image\"]=newname\n",
    "    alldf[i][\"global_id\"]=alldf[i].index.values"
   ]
  },
  {
   "cell_type": "code",
   "execution_count": null,
   "metadata": {},
   "outputs": [],
   "source": [
    "result = pd.concat(alldf)\n",
    "result = result.reset_index()\n"
   ]
  },
  {
   "cell_type": "markdown",
   "metadata": {},
   "source": [
    "# Now, are these for training or to go to inference directly?"
   ]
  },
  {
   "cell_type": "markdown",
   "metadata": {},
   "source": [
    "### If training: continue along. Else if inference: go below to where it says [inference](#Inference)"
   ]
  },
  {
   "cell_type": "code",
   "execution_count": null,
   "metadata": {},
   "outputs": [],
   "source": [
    "cols=[x for x in result.columns]"
   ]
  },
  {
   "cell_type": "code",
   "execution_count": null,
   "metadata": {},
   "outputs": [],
   "source": [
    "# work in image coordinates since we are going to search for things in the image\n",
    "result[\"cx\"]=result['Centroid X mum']/resolution\n",
    "result[\"cy\"]=result['Centroid Y mum']/resolution"
   ]
  },
  {
   "cell_type": "code",
   "execution_count": null,
   "metadata": {},
   "outputs": [],
   "source": [
    "combvalues={\"GFAP\":1,\"mutIDH1\":2,\"NeuroC\":4,\"TMEM119\":8,\"IBA1\":16,\"CD34\":32,\"MBP\":64,\"Ki67\":128,\n",
    "                \"ambiguous\":256}\n",
    "markers=[\"GFAP\",\"mutIDH1\",\"NeuroC\",\"TMEM119\",\"IBA1\",\"CD34\",\"MBP\",\"Ki67\"]\n",
    "\n",
    "realcombcolors={1:\"#2953b9\",129:\"#5574be\",2:\"#ff881f\",3:\"#d2a93b\",6:\"#ab8d40\",7:\"#925824\",130:\"#c3912d\",\n",
    "                131:\"#ab672a\",134:\"#b67b2d\",135:\"#6f3909\",4:\"#ea86d5\",8:\"#ea2325\",24:\"#bb4b4b\",136:\"#bb4b4b\",\n",
    "                152:\"#ad6666\",16:\"#9467bd\",144:\"#9f89b2\",32:\"#2699b1\",160:\"#78c1d0\",128:\"#35c135\"}\n",
    "\n",
    "celltype={1:\"Astrocyte\",129:\"Astrocyte\",2:\"Glioma\",3:\"Glioma\",6:\"Glioma\",7:\"Glioma\",130:\"Glioma\",\n",
    "         131:\"Glioma\",134:\"Glioma\",135:\"Glioma\",4:\"Neuron\",8:\"Microglia\",24:\"Microglia\",\n",
    "         136:\"Microglia\",152:\"Microglia\",16:\"Macrophage\",144:\"Macrophage\",32:\"Endothelial\",\n",
    "         160:\"Endothelial\",256:\"ambiguous\"}\n",
    "\n",
    "coldict={\"Astrocyte\":\"#2953b9\",\"Glioma\":\"#ff7f0e\",\"Neuron\":\"#ea86d5\",\n",
    "         \"Microglia\":\"#ea2325\",\"Macrophage\":\"#9467bd\",\"Endothelial\":\"#2699b1\",\"ambiguous\":\"#aaaaaa\"}"
   ]
  },
  {
   "cell_type": "code",
   "execution_count": null,
   "metadata": {},
   "outputs": [],
   "source": [
    "combs=[]\n",
    "comblengths=[]\n",
    "colvals=[]\n",
    "celltypes=[]\n",
    "maincolors=[]\n",
    "result[\"combination\"]=0\n",
    "result[\"combination_length\"]=0\n",
    "result[\"colorpercell\"]=0\n",
    "result[\"CellType\"]=0\n",
    "result[\"maincolor\"]=0"
   ]
  },
  {
   "cell_type": "code",
   "execution_count": null,
   "metadata": {},
   "outputs": [],
   "source": [
    "for i, row in result.iterrows():\n",
    "    classes=row[\"Class\"]\n",
    "        \n",
    "    classes=classes.replace(\" \",\"\")\n",
    "    classes=classes.split(\":\")\n",
    "    comb=0\n",
    "    for c in classes:\n",
    "        comb+=combvalues[c]\n",
    "    combs.append(comb)\n",
    "    comblengths.append(len(classes))\n",
    "    colvals.append(mycolor(comb))\n",
    "    if comb in celltype:\n",
    "        ct=celltype[comb]\n",
    "        celltypes.append(ct)\n",
    "        maincolors.append(coldict[ct])\n",
    "    else:\n",
    "        ct=\"ambiguous\"\n",
    "        celltypes.append(ct)\n",
    "        maincolors.append(\"#aaaaaa\")\n",
    "        \n",
    "\n",
    "result[\"combination\"]=combs\n",
    "result[\"combination_length\"]=comblengths\n",
    "result[\"colorpercell\"]=colvals\n",
    "result[\"CellType\"]=celltypes\n",
    "result[\"maincolor\"]=maincolors"
   ]
  },
  {
   "cell_type": "markdown",
   "metadata": {},
   "source": [
    "**Now it's ready with labels to save and go get d90s**"
   ]
  },
  {
   "cell_type": "code",
   "execution_count": null,
   "metadata": {},
   "outputs": [],
   "source": [
    "result.to_csv(\"/home/leslie/Documents/Uppsala/TissueMapsAll/5papers/data/detectionResultsTRimmedCores.csv\",index=False)"
   ]
  },
  {
   "cell_type": "markdown",
   "metadata": {},
   "source": [
    "# Inference\n",
    "preproccessing for inference, where we have no labels"
   ]
  },
  {
   "cell_type": "code",
   "execution_count": null,
   "metadata": {
    "scrolled": true
   },
   "outputs": [],
   "source": [
    "importlib.reload(utils)\n",
    "utils.printColsAsString(result,wrap='\"',sep=\", \")"
   ]
  },
  {
   "cell_type": "code",
   "execution_count": null,
   "metadata": {},
   "outputs": [],
   "source": [
    "#drop useless columns\n",
    "dropus=[ \"level_0\", \"level_1\", \"Name\", \"Class\", \"Parent\", \"ROI\", \"Nucleus: Area\", \"Nucleus: Perimeter\", \"Nucleus: Circularity\", \"Nucleus: Max caliper\", \"Nucleus: Min caliper\", \"Nucleus: Eccentricity\", \"Nucleus: DAPI mean\", \"Nucleus: DAPI sum\", \"Nucleus: DAPI std dev\", \"Nucleus: DAPI max\", \"Nucleus: DAPI min\", \"Nucleus: DAPI range\", \"Nucleus: IBA1 mean\", \"Nucleus: IBA1 sum\", \"Nucleus: IBA1 std dev\", \"Nucleus: IBA1 max\", \"Nucleus: IBA1 min\", \"Nucleus: IBA1 range\", \"Nucleus: Ki67 mean\", \"Nucleus: Ki67 sum\", \"Nucleus: Ki67 std dev\", \"Nucleus: Ki67 max\", \"Nucleus: Ki67 min\", \"Nucleus: Ki67 range\", \"Nucleus: TMEM119 mean\", \"Nucleus: TMEM119 sum\", \"Nucleus: TMEM119 std dev\", \"Nucleus: TMEM119 max\", \"Nucleus: TMEM119 min\", \"Nucleus: TMEM119 range\", \"Nucleus: NeuroC mean\", \"Nucleus: NeuroC sum\", \"Nucleus: NeuroC std dev\", \"Nucleus: NeuroC max\", \"Nucleus: NeuroC min\", \"Nucleus: NeuroC range\", \"Nucleus: MBP mean\", \"Nucleus: MBP sum\", \"Nucleus: MBP std dev\", \"Nucleus: MBP max\", \"Nucleus: MBP min\", \"Nucleus: MBP range\", \"Nucleus: mutIDH1 mean\", \"Nucleus: mutIDH1 sum\", \"Nucleus: mutIDH1 std dev\", \"Nucleus: mutIDH1 max\", \"Nucleus: mutIDH1 min\", \"Nucleus: mutIDH1 range\", \"Nucleus: CD34 mean\", \"Nucleus: CD34 sum\", \"Nucleus: CD34 std dev\", \"Nucleus: CD34 max\", \"Nucleus: CD34 min\", \"Nucleus: CD34 range\", \"Nucleus: GFAP mean\", \"Nucleus: GFAP sum\", \"Nucleus: GFAP std dev\", \"Nucleus: GFAP max\", \"Nucleus: GFAP min\", \"Nucleus: GFAP range\", \"Nucleus: Autofluorescence mean\", \"Nucleus: Autofluorescence sum\", \"Nucleus: Autofluorescence std dev\", \"Nucleus: Autofluorescence max\", \"Nucleus: Autofluorescence min\", \"Nucleus: Autofluorescence range\", \"Cytoplasm: DAPI mean\", \"Cytoplasm: DAPI std dev\", \"Cytoplasm: DAPI max\", \"Cytoplasm: DAPI min\", \"Cytoplasm: IBA1 mean\", \"Cytoplasm: IBA1 std dev\", \"Cytoplasm: IBA1 max\", \"Cytoplasm: IBA1 min\", \"Cytoplasm: Ki67 mean\", \"Cytoplasm: Ki67 std dev\", \"Cytoplasm: Ki67 max\", \"Cytoplasm: Ki67 min\", \"Cytoplasm: TMEM119 mean\", \"Cytoplasm: TMEM119 std dev\", \"Cytoplasm: TMEM119 max\", \"Cytoplasm: TMEM119 min\", \"Cytoplasm: NeuroC mean\", \"Cytoplasm: NeuroC std dev\", \"Cytoplasm: NeuroC max\", \"Cytoplasm: NeuroC min\", \"Cytoplasm: MBP mean\", \"Cytoplasm: MBP std dev\", \"Cytoplasm: MBP max\", \"Cytoplasm: MBP min\", \"Cytoplasm: mutIDH1 mean\", \"Cytoplasm: mutIDH1 std dev\", \"Cytoplasm: mutIDH1 max\", \"Cytoplasm: mutIDH1 min\", \"Cytoplasm: CD34 mean\", \"Cytoplasm: CD34 std dev\", \"Cytoplasm: CD34 max\", \"Cytoplasm: CD34 min\", \"Cytoplasm: GFAP mean\", \"Cytoplasm: GFAP std dev\", \"Cytoplasm: GFAP max\", \"Cytoplasm: GFAP min\", \"Cytoplasm: Autofluorescence mean\", \"Cytoplasm: Autofluorescence std dev\", \"Cytoplasm: Autofluorescence max\", \"Cytoplasm: Autofluorescence min\"]\n",
    "result.drop(columns=dropus,inplace=True)"
   ]
  },
  {
   "cell_type": "code",
   "execution_count": null,
   "metadata": {
    "scrolled": true
   },
   "outputs": [],
   "source": [
    "columnsorder=[\"Image\",\"global_id\", \"Centroid X mum\", \"Centroid Y mum\", \"Cell: Area\", \"Cell: Perimeter\", \"Cell: Circularity\", \"Cell: Max caliper\", \"Cell: Min caliper\", \"Cell: Eccentricity\", \"Cell: DAPI mean\", \"Cell: DAPI std dev\", \"Cell: DAPI max\", \"Cell: DAPI min\", \"Cell: IBA1 mean\", \"Cell: IBA1 std dev\", \"Cell: IBA1 max\", \"Cell: IBA1 min\", \"Cell: Ki67 mean\", \"Cell: Ki67 std dev\", \"Cell: Ki67 max\", \"Cell: Ki67 min\", \"Cell: TMEM119 mean\", \"Cell: TMEM119 std dev\", \"Cell: TMEM119 max\", \"Cell: TMEM119 min\", \"Cell: NeuroC mean\", \"Cell: NeuroC std dev\", \"Cell: NeuroC max\", \"Cell: NeuroC min\", \"Cell: MBP mean\", \"Cell: MBP std dev\", \"Cell: MBP max\", \"Cell: MBP min\", \"Cell: mutIDH1 mean\", \"Cell: mutIDH1 std dev\", \"Cell: mutIDH1 max\", \"Cell: mutIDH1 min\", \"Cell: CD34 mean\", \"Cell: CD34 std dev\", \"Cell: CD34 max\", \"Cell: CD34 min\", \"Cell: GFAP mean\", \"Cell: GFAP std dev\", \"Cell: GFAP max\", \"Cell: GFAP min\", \"Cell: Autofluorescence mean\", \"Cell: Autofluorescence std dev\", \"Cell: Autofluorescence max\", \"Cell: Autofluorescence min\", \"Nucleus/Cell area ratio\"]\n",
    "result=result[columnsorder]\n",
    "result"
   ]
  },
  {
   "cell_type": "markdown",
   "metadata": {},
   "source": [
    "**Now it's ready with labels to save and go get d90s**"
   ]
  },
  {
   "cell_type": "code",
   "execution_count": null,
   "metadata": {},
   "outputs": [],
   "source": [
    "loc=\"/home/leslie/Documents/Uppsala/TissueMapsAll/5papers/data/new20cores/\"\n",
    "result.to_csv(loc+\"new20base.csv\",index=False)"
   ]
  },
  {
   "cell_type": "markdown",
   "metadata": {},
   "source": [
    "# d90s \n",
    "difference of 90th percentiles\n",
    "\n",
    "This code was made specifically for this dataset, expeting namig conventions, and markers and features and image types rom this dataset. If you are using this for your own, you will have to give the right metadata"
   ]
  },
  {
   "cell_type": "code",
   "execution_count": null,
   "metadata": {},
   "outputs": [],
   "source": [
    "import JSONexploreCells\n",
    "from datetime import datetime\n",
    "import warnings\n",
    "import importlib"
   ]
  },
  {
   "cell_type": "code",
   "execution_count": null,
   "metadata": {},
   "outputs": [],
   "source": [
    "coreprocessor=JSONexploreCells.CoreProcessor()"
   ]
  },
  {
   "cell_type": "code",
   "execution_count": null,
   "metadata": {},
   "outputs": [],
   "source": [
    "allimages=[\"LGG TMA 6_2_Core[1,3,C]_[9486,38010]_component_data.tif\",\"LGG TMA 6_2_Core[1,3,D]_[11391,38050]_component_data.tif\",\"LGG TMA 6_2_Core[1,3,F]_[15042,38050]_component_data.tif\",\"LGG TMA 6_2_Core[1,7,D]_[11153,44876]_component_data.tif\",\"LGG TMA 6_2_Core[1,9,B]_[7224,48091]_component_data.tif\",\"LGG TMA 6_2_Core[1,9,D]_[11074,48329]_component_data.tif\",\"LGG TMA 6_2_Core[1,9,F]_[14884,48567]_component_data.tif\",\"LGG TMA 6_2_Core[1,9,H]_[18694,48567]_component_data.tif\",\"LGG TMA 6_2_Core[1,9,I]_[20599,48607]_component_data.tif\",\"LGG TMA 7_2_Core[1,10,B]_[8467,50972]_component_data.tif\",\"LGG TMA 7_2_Core[1,12,C]_[10530,54623]_component_data.tif\",\"LGG TMA 7_2_Core[1,3,F]_[15762,38475]_component_data.tif\",\"LGG TMA 7_2_Core[1,3,H]_[19540,38629]_component_data.tif\",\"LGG TMA 7_2_Core[1,4,B]_[8268,40415]_component_data.tif\",\"LGG TMA 7_2_Core[1,5,G]_[17833,42161]_component_data.tif\",\"LGG TMA 7_2_Core[1,6,H]_[19698,43828]_component_data.tif\",\"LGG TMA 7_2_Core[1,7,C]_[10213,45693]_component_data.tif\",\"LGG TMA 7_2_Core[1,7,F]_[15888,45614]_component_data.tif\",\"LGG TMA 7_2_Core[1,8,E]_[14070,47461]_component_data.tif\",\"LGG TMA 7_2_Core[1,8,I]_[21643,47202]_component_data.tif\"]\n",
    "alljsons=[\"LGG TMA 6_2_Core[1,3,C]_[9486,38010]_component_data.json\", \"LGG TMA 6_2_Core[1,3,D]_[11391,38050]_component_data.json\", \"LGG TMA 6_2_Core[1,3,F]_[15042,38050]_component_data.json\", \"LGG TMA 6_2_Core[1,7,D]_[11153,44876]_component_data.json\", \"LGG TMA 6_2_Core[1,9,B]_[7224,48091]_component_data.json\", \"LGG TMA 6_2_Core[1,9,D]_[11074,48329]_component_data.json\", \"LGG TMA 6_2_Core[1,9,F]_[14884,48567]_component_data.json\", \"LGG TMA 6_2_Core[1,9,H]_[18694,48567]_component_data.json\", \"LGG TMA 6_2_Core[1,9,I]_[20599,48607]_component_data.json\", \"LGG TMA 7_2_Core[1,10,B]_[8467,50972]_component_data.json\", \"LGG TMA 7_2_Core[1,12,C]_[10530,54623]_component_data.json\", \"LGG TMA 7_2_Core[1,3,F]_[15762,38475]_component_data.json\", \"LGG TMA 7_2_Core[1,3,H]_[19540,38629]_component_data.json\", \"LGG TMA 7_2_Core[1,4,B]_[8268,40415]_component_data.json\", \"LGG TMA 7_2_Core[1,5,G]_[17833,42161]_component_data.json\", \"LGG TMA 7_2_Core[1,6,H]_[19698,43828]_component_data.json\", \"LGG TMA 7_2_Core[1,7,C]_[10213,45693]_component_data.json\", \"LGG TMA 7_2_Core[1,7,F]_[15888,45614]_component_data.json\", \"LGG TMA 7_2_Core[1,8,E]_[14070,47461]_component_data.json\", \"LGG TMA 7_2_Core[1,8,I]_[21643,47202]_component_data.json\"]  "
   ]
  },
  {
   "cell_type": "code",
   "execution_count": null,
   "metadata": {},
   "outputs": [],
   "source": [
    "coreprocessor.multiprocessing=True\n",
    "#if images already exist, dont waste time loading the big core image\n",
    "coreprocessor.loadBigImage=True\n",
    "coreprocessor.location=\"/home/leslie/Documents/Uppsala/TissueMapsAll/5papers/data/new20cores/JSON/\"\n",
    "coreprocessor.imagelocation=\"/media/leslie/Elements/LinaData/new20cores/\"\n",
    "coreprocessor.saveat=\"/home/leslie/Documents/Uppsala/TissueMapsAll/5papers/smallcellsNew20/\"\n",
    "    "
   ]
  },
  {
   "cell_type": "code",
   "execution_count": null,
   "metadata": {
    "scrolled": true
   },
   "outputs": [],
   "source": [
    "i=0\n",
    "for imgf,jsf in zip(allimages,alljsons):\n",
    "    now = datetime.now() \n",
    "    print(\"now = \", now) \n",
    "    print(imgf)\n",
    "    if i ==0 :\n",
    "        coreprocessor.loadBigImage=False\n",
    "    else: \n",
    "        coreprocessor.loadBigImage=True\n",
    "    coreprocessor.jsonFile=jsf\n",
    "    coreprocessor.imgFile=imgf\n",
    "    coreprocessor.processCore()\n",
    "    i+=1\n",
    "    print(i)"
   ]
  },
  {
   "cell_type": "code",
   "execution_count": null,
   "metadata": {},
   "outputs": [],
   "source": [
    "#Add all d90s csv together\n",
    "d90scols=[\"Image\", \"global_id\",\"geometry\", \"cx\",\"cy\", \"12d90s\", \"13d90s\", \"14d90s\", \"15d90s\", \"16d90s\", \"17d90s\", \"18d90s\", \"23d90s\", \"24d90s\", \"25d90s\", \"26d90s\", \"27d90s\", \"28d90s\", \"34d90s\", \"35d90s\", \"36d90s\", \"37d90s\", \"38d90s\", \"45d90s\", \"46d90s\", \"47d90s\", \"48d90s\", \"56d90s\", \"57d90s\", \"58d90s\", \"67d90s\", \"68d90s\", \"78d90s\"]\n",
    "d90scsvs=[\"6_3_C.csv\", \"6_3_D.csv\", \"6_3_F.csv\", \"6_7_D.csv\", \"6_9_B.csv\", \"6_9_D.csv\", \"6_9_F.csv\", \"6_9_H.csv\", \"6_9_I.csv\", \"7_10_B.csv\", \"7_12_C.csv\", \"7_3_F.csv\", \"7_3_H.csv\", \"7_4_B.csv\", \"7_5_G.csv\", \"7_6_H.csv\", \"7_7_C.csv\", \"7_7_F.csv\", \"7_8_E.csv\", \"7_8_I.csv\"]\n",
    "location=\"/home/leslie/Documents/Uppsala/TissueMapsAll/5papers/smallcellsNew20/\"\n"
   ]
  },
  {
   "cell_type": "code",
   "execution_count": null,
   "metadata": {},
   "outputs": [],
   "source": [
    "alld90s=[]\n",
    "\n",
    "for i in d90scsvs:\n",
    "    df=pd.read_csv(f\"{location}{i}\")\n",
    "    df=df[d90scols]\n",
    "    alld90s.append(df)\n",
    "    \n",
    "d90s = pd.concat(alld90s)\n",
    "d90s = d90s.reset_index()\n",
    "d90s.to_csv(\"/home/leslie/Documents/Uppsala/TissueMapsAll/5papers/data/new20cores/d90sfor20newcores.csv\")\n"
   ]
  },
  {
   "cell_type": "markdown",
   "metadata": {},
   "source": [
    "## Now verify that they match and hopefully it will be ready to mearge by image and global id"
   ]
  },
  {
   "cell_type": "code",
   "execution_count": null,
   "metadata": {},
   "outputs": [],
   "source": [
    "base=pd.read_csv(\"/home/leslie/Documents/Uppsala/TissueMapsAll/5papers/data/new20cores/new20base.csv\")"
   ]
  },
  {
   "cell_type": "code",
   "execution_count": null,
   "metadata": {},
   "outputs": [],
   "source": [
    "d90s=pd.read_csv(\"/home/leslie/Documents/Uppsala/TissueMapsAll/5papers/data/new20cores/d90sfor20newcores.csv\")"
   ]
  },
  {
   "cell_type": "code",
   "execution_count": null,
   "metadata": {},
   "outputs": [],
   "source": [
    "base.sample()"
   ]
  },
  {
   "cell_type": "code",
   "execution_count": null,
   "metadata": {},
   "outputs": [],
   "source": [
    "d90s.sample()"
   ]
  },
  {
   "cell_type": "code",
   "execution_count": null,
   "metadata": {},
   "outputs": [],
   "source": [
    "base[base[\"Image\"]==\"7_12_C\"].head(10)"
   ]
  },
  {
   "cell_type": "code",
   "execution_count": null,
   "metadata": {
    "scrolled": true
   },
   "outputs": [],
   "source": [
    "d90s[d90s[\"Image\"]==\"7_12_C\"].head(10)"
   ]
  },
  {
   "cell_type": "code",
   "execution_count": null,
   "metadata": {},
   "outputs": [],
   "source": [
    "len(base)"
   ]
  },
  {
   "cell_type": "code",
   "execution_count": null,
   "metadata": {},
   "outputs": [],
   "source": [
    "len(d90s)"
   ]
  },
  {
   "cell_type": "code",
   "execution_count": null,
   "metadata": {},
   "outputs": [],
   "source": [
    "base=base.merge(d90s,on=[\"Image\",\"global_id\"])"
   ]
  },
  {
   "cell_type": "code",
   "execution_count": null,
   "metadata": {},
   "outputs": [],
   "source": [
    "base.sample()"
   ]
  },
  {
   "cell_type": "code",
   "execution_count": null,
   "metadata": {},
   "outputs": [],
   "source": [
    "base.drop(columns=[\"Unnamed: 0\",\"index\"],inplace=True)"
   ]
  },
  {
   "cell_type": "code",
   "execution_count": null,
   "metadata": {},
   "outputs": [],
   "source": [
    "base.to_csv(\"/home/leslie/Documents/Uppsala/TissueMapsAll/5papers/data/new20cores/allinfoonnewcores.csv\")"
   ]
  },
  {
   "cell_type": "markdown",
   "metadata": {},
   "source": [
    "# Now we are ready for inference! in the next notebook"
   ]
  }
 ],
 "metadata": {
  "kernelspec": {
   "display_name": "Python 3.6.8 64-bit ('TissueMaps2018': pipenv)",
   "language": "python",
   "name": "python36864bittissuemaps2018pipenv60e5fee01964489abfe73ed2f1b1dc07"
  },
  "language_info": {
   "codemirror_mode": {
    "name": "ipython",
    "version": 3
   },
   "file_extension": ".py",
   "mimetype": "text/x-python",
   "name": "python",
   "nbconvert_exporter": "python",
   "pygments_lexer": "ipython3",
   "version": "3.6.8"
  }
 },
 "nbformat": 4,
 "nbformat_minor": 4
}